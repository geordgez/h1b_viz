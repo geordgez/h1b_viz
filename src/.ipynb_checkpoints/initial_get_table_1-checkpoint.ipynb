{
 "cells": [
  {
   "cell_type": "code",
   "execution_count": 144,
   "metadata": {
    "collapsed": true
   },
   "outputs": [],
   "source": [
    "%matplotlib inline"
   ]
  },
  {
   "cell_type": "code",
   "execution_count": 146,
   "metadata": {
    "collapsed": false
   },
   "outputs": [],
   "source": [
    "import numpy as np\n",
    "import pandas as pd\n",
    "from matplotlib import pyplot as plt\n",
    "\n",
    "import requests as rq\n",
    "import html5lib\n",
    "import lxml\n",
    "\n",
    "from selenium import webdriver\n",
    "from bs4 import BeautifulSoup as bs"
   ]
  },
  {
   "cell_type": "markdown",
   "metadata": {},
   "source": [
    "**Note: use Chrome.** Remember to get geckodriver for Firefox or [ChromeDriver](https://sites.google.com/a/chromium.org/chromedriver/home) for Chrome. Also need lxml and html5lib but installed don't need to import. pandas read_html prioritized lxml then html5lib.\n",
    "\n",
    "Some protips for getting xpaths [here](http://thiagomarzagao.com/2013/11/12/webscraping-with-selenium-part-1/)."
   ]
  },
  {
   "cell_type": "markdown",
   "metadata": {},
   "source": [
    "Form inputs:"
   ]
  },
  {
   "cell_type": "code",
   "execution_count": 206,
   "metadata": {
    "collapsed": false
   },
   "outputs": [],
   "source": [
    "employer_name = 'oracle'\n",
    "job_name = ''\n",
    "city_name = ''\n",
    "year_name = 'All Years' # has dropdown until 2012\n",
    "\n",
    "# input data dictionary\n",
    "input_fields = {'employer': {'user_input': employer_name,\n",
    "                            'xpath': '//*[@id=\"employer\"]',\n",
    "                            'type': 'text'},\n",
    "               'job': {'user_input': job_name,\n",
    "                      'xpath': '//*[@id=\"job\"]',\n",
    "                      'type': 'text'},\n",
    "               'city': {'user_input': city_name,\n",
    "                       'xpath': '//*[@id=\"city\"]',\n",
    "                       'type': 'text'},\n",
    "               'year': {'user_input': year_name,\n",
    "                       'xpath': '//select[@name=\"year\"]',\n",
    "                       'type': 'select'}}"
   ]
  },
  {
   "cell_type": "markdown",
   "metadata": {},
   "source": [
    "### Method 1: Direct URL access to table"
   ]
  },
  {
   "cell_type": "markdown",
   "metadata": {},
   "source": [
    "Direct paste into URL:"
   ]
  },
  {
   "cell_type": "code",
   "execution_count": 207,
   "metadata": {
    "collapsed": false,
    "scrolled": true
   },
   "outputs": [
    {
     "name": "stdout",
     "output_type": "stream",
     "text": [
      "http://h1bdata.info/index.php?em=oracle&job=&city=&year=All+Years\n"
     ]
    }
   ],
   "source": [
    "search_url = (\n",
    "    'http://h1bdata.info/index.php?em=' + employer_name + \n",
    "    '&job=' + job_name +\n",
    "    '&city=' + city_name +\n",
    "    '&year=' + year_name\n",
    "    )\n",
    "search_url = search_url.replace(' ', '+')\n",
    "print search_url"
   ]
  },
  {
   "cell_type": "code",
   "execution_count": 208,
   "metadata": {
    "collapsed": false
   },
   "outputs": [],
   "source": [
    "search_page = rq.get(search_url)\n",
    "page_soup = bs(search_page.content, 'lxml')"
   ]
  },
  {
   "cell_type": "markdown",
   "metadata": {},
   "source": [
    "### Method 2: Enter form inputs through Selenium Webdriver\n",
    "\n",
    "**Note:** for faster access you can use direct request instead of WebDriver. In fact, even within the realm of form-input methods, using Beautifulsoup might even be faster. This is just for practice although it is more generalizable for sites that generate using JavaScript. A useful future feature would be to scrape the autocompletion entries for the employer names as well."
   ]
  },
  {
   "cell_type": "markdown",
   "metadata": {},
   "source": [
    "Initialize WebDriver:"
   ]
  },
  {
   "cell_type": "code",
   "execution_count": 118,
   "metadata": {
    "collapsed": true
   },
   "outputs": [],
   "source": [
    "home_url = 'http://h1bdata.info/'\n",
    "browser = webdriver.Chrome()"
   ]
  },
  {
   "cell_type": "code",
   "execution_count": 119,
   "metadata": {
    "collapsed": false
   },
   "outputs": [
    {
     "name": "stdout",
     "output_type": "stream",
     "text": [
      "year values: \n",
      "[u'All Years', u'2016', u'2015', u'2014', u'2013', u'2012']\n"
     ]
    }
   ],
   "source": [
    "browser.get(home_url)\n",
    "\n",
    "for field in input_fields:\n",
    "    curr_elem = browser.find_element_by_xpath(input_fields[field]['xpath'])\n",
    "    \n",
    "    # dropdown lists\n",
    "    if input_fields[field]['type'] == 'select':\n",
    "        \n",
    "        # while scraping, record finite values of dropdowns for future use\n",
    "        option_values = curr_elem.find_elements_by_tag_name('option')\n",
    "        input_fields[field]['values'] = [option.get_attribute('value') \n",
    "                                         for option in option_values]\n",
    "        \n",
    "        print field, \"values: \\n\", input_fields[field]['values']\n",
    "        \n",
    "        # select user input option\n",
    "        option_xpath = (input_fields[field]['xpath'] + \n",
    "                             '/option[@value=\"' + \n",
    "                             input_fields[field]['user_input'] + \n",
    "                             '\"]'\n",
    "                       )\n",
    "        curr_elem_option = browser.find_element_by_xpath(option_xpath)\n",
    "        curr_elem_option.click()\n",
    "    \n",
    "    # text input lists\n",
    "    elif input_fields[field]['type'] == 'text':\n",
    "        curr_elem.clear()\n",
    "        curr_elem.send_keys(input_fields[field]['user_input'])\n",
    "    \n",
    "    # input field missing\n",
    "    else:\n",
    "        print \"Unaccounted Field:\", field\n",
    "    \n",
    "    \n",
    "browser.find_element_by_css_selector('button[type=\"submit\"]').click()"
   ]
  },
  {
   "cell_type": "markdown",
   "metadata": {},
   "source": [
    "## Get Tables"
   ]
  },
  {
   "cell_type": "markdown",
   "metadata": {},
   "source": [
    "Scrape table from direct URL and BeautifulSoup:"
   ]
  },
  {
   "cell_type": "code",
   "execution_count": 209,
   "metadata": {
    "collapsed": false
   },
   "outputs": [
    {
     "data": {
      "text/html": [
       "<div>\n",
       "<table border=\"1\" class=\"dataframe\">\n",
       "  <thead>\n",
       "    <tr style=\"text-align: right;\">\n",
       "      <th></th>\n",
       "      <th>EMPLOYER</th>\n",
       "      <th>JOB TITLE</th>\n",
       "      <th>BASE SALARY</th>\n",
       "      <th>LOCATION</th>\n",
       "      <th>SUBMIT DATE</th>\n",
       "      <th>START DATE</th>\n",
       "      <th>CASE STATUS</th>\n",
       "    </tr>\n",
       "  </thead>\n",
       "  <tbody>\n",
       "    <tr>\n",
       "      <th>0</th>\n",
       "      <td>ORACLE FINANCIAL SERVICES SOFTWARE INC</td>\n",
       "      <td>ACCOUNT DIRECTOR - CONSULTING SALES</td>\n",
       "      <td>127331</td>\n",
       "      <td>BURLINGTON, MA</td>\n",
       "      <td>02/11/2013</td>\n",
       "      <td>05/26/2013</td>\n",
       "      <td>CERTIFIED</td>\n",
       "    </tr>\n",
       "    <tr>\n",
       "      <th>1</th>\n",
       "      <td>ORACLE FINANCIAL SERVICES SOFTWARE INC</td>\n",
       "      <td>ACCOUNT MANAGER-CONSULTING SALES</td>\n",
       "      <td>110000</td>\n",
       "      <td>EDISON, NJ</td>\n",
       "      <td>06/07/2013</td>\n",
       "      <td>06/15/2013</td>\n",
       "      <td>CERTIFIED</td>\n",
       "    </tr>\n",
       "    <tr>\n",
       "      <th>2</th>\n",
       "      <td>ORACLE AMERICA INC</td>\n",
       "      <td>ACCOUNTANT (CONTRACT DEVELOPMENT SPECIALIST 4)</td>\n",
       "      <td>100000</td>\n",
       "      <td>RESTON, VA</td>\n",
       "      <td>12/04/2012</td>\n",
       "      <td>05/30/2013</td>\n",
       "      <td>CERTIFIED</td>\n",
       "    </tr>\n",
       "    <tr>\n",
       "      <th>3</th>\n",
       "      <td>ORACLE AMERICA INC</td>\n",
       "      <td>ACCOUNTANT (CONTROLLER SNR MANAGER-FIN)</td>\n",
       "      <td>134000</td>\n",
       "      <td>REDWOOD SHORES, CA</td>\n",
       "      <td>10/30/2012</td>\n",
       "      <td>04/13/2013</td>\n",
       "      <td>CERTIFIED</td>\n",
       "    </tr>\n",
       "    <tr>\n",
       "      <th>4</th>\n",
       "      <td>ORACLE AMERICA INC</td>\n",
       "      <td>ACCOUNTANT (REVENUE ANALYST 4-FIN)</td>\n",
       "      <td>91473</td>\n",
       "      <td>NEW YORK, NY</td>\n",
       "      <td>03/01/2013</td>\n",
       "      <td>08/31/2013</td>\n",
       "      <td>CERTIFIED</td>\n",
       "    </tr>\n",
       "  </tbody>\n",
       "</table>\n",
       "</div>"
      ],
      "text/plain": [
       "                                 EMPLOYER  \\\n",
       "0  ORACLE FINANCIAL SERVICES SOFTWARE INC   \n",
       "1  ORACLE FINANCIAL SERVICES SOFTWARE INC   \n",
       "2                      ORACLE AMERICA INC   \n",
       "3                      ORACLE AMERICA INC   \n",
       "4                      ORACLE AMERICA INC   \n",
       "\n",
       "                                        JOB TITLE  BASE SALARY  \\\n",
       "0             ACCOUNT DIRECTOR - CONSULTING SALES       127331   \n",
       "1                ACCOUNT MANAGER-CONSULTING SALES       110000   \n",
       "2  ACCOUNTANT (CONTRACT DEVELOPMENT SPECIALIST 4)       100000   \n",
       "3         ACCOUNTANT (CONTROLLER SNR MANAGER-FIN)       134000   \n",
       "4              ACCOUNTANT (REVENUE ANALYST 4-FIN)        91473   \n",
       "\n",
       "             LOCATION SUBMIT DATE  START DATE CASE STATUS  \n",
       "0      BURLINGTON, MA  02/11/2013  05/26/2013   CERTIFIED  \n",
       "1          EDISON, NJ  06/07/2013  06/15/2013   CERTIFIED  \n",
       "2          RESTON, VA  12/04/2012  05/30/2013   CERTIFIED  \n",
       "3  REDWOOD SHORES, CA  10/30/2012  04/13/2013   CERTIFIED  \n",
       "4        NEW YORK, NY  03/01/2013  08/31/2013   CERTIFIED  "
      ]
     },
     "execution_count": 209,
     "metadata": {},
     "output_type": "execute_result"
    }
   ],
   "source": [
    "out_table_direct = page_soup.find('table')\n",
    "df_table = pd.read_html(out_table_direct.prettify())[0]\n",
    "df_table.head()"
   ]
  },
  {
   "cell_type": "markdown",
   "metadata": {},
   "source": [
    "Scrape table from WebDriver window:"
   ]
  },
  {
   "cell_type": "code",
   "execution_count": 124,
   "metadata": {
    "collapsed": false
   },
   "outputs": [
    {
     "data": {
      "text/html": [
       "<div>\n",
       "<table border=\"1\" class=\"dataframe\">\n",
       "  <thead>\n",
       "    <tr style=\"text-align: right;\">\n",
       "      <th></th>\n",
       "      <th>EMPLOYER</th>\n",
       "      <th>JOB TITLE</th>\n",
       "      <th>BASE SALARY</th>\n",
       "      <th>LOCATION</th>\n",
       "      <th>SUBMIT DATE</th>\n",
       "      <th>START DATE</th>\n",
       "      <th>CASE STATUS</th>\n",
       "    </tr>\n",
       "  </thead>\n",
       "  <tbody>\n",
       "    <tr>\n",
       "      <th>0</th>\n",
       "      <td>AQR CAPITAL MANAGEMENT LLC</td>\n",
       "      <td>ALGORITHMIC DEVELOPER, ASSOCIATE</td>\n",
       "      <td>130000</td>\n",
       "      <td>GREENWICH, CT</td>\n",
       "      <td>06/09/2014</td>\n",
       "      <td>07/01/2014</td>\n",
       "      <td>CERTIFIED</td>\n",
       "    </tr>\n",
       "    <tr>\n",
       "      <th>1</th>\n",
       "      <td>AQR CAPITAL MANAGEMENT LLC</td>\n",
       "      <td>ANALYST</td>\n",
       "      <td>75000</td>\n",
       "      <td>GREENWICH, CT</td>\n",
       "      <td>06/06/2013</td>\n",
       "      <td>06/17/2013</td>\n",
       "      <td>CERTIFIED</td>\n",
       "    </tr>\n",
       "    <tr>\n",
       "      <th>2</th>\n",
       "      <td>AQR CAPITAL MANAGEMENT LLC</td>\n",
       "      <td>ANALYST</td>\n",
       "      <td>90000</td>\n",
       "      <td>GREENWICH, CT</td>\n",
       "      <td>07/11/2016</td>\n",
       "      <td>07/19/2016</td>\n",
       "      <td>CERTIFIED</td>\n",
       "    </tr>\n",
       "    <tr>\n",
       "      <th>3</th>\n",
       "      <td>AQR CAPITAL MANAGEMENT LLC</td>\n",
       "      <td>ANALYST, SECURITY MASTER SPECIALIST</td>\n",
       "      <td>90000</td>\n",
       "      <td>GREENWICH, CT</td>\n",
       "      <td>02/04/2015</td>\n",
       "      <td>02/23/2015</td>\n",
       "      <td>CERTIFIED</td>\n",
       "    </tr>\n",
       "    <tr>\n",
       "      <th>4</th>\n",
       "      <td>AQR CAPITAL MANAGEMENT LLC</td>\n",
       "      <td>ANALYST, STRATEGY</td>\n",
       "      <td>100000</td>\n",
       "      <td>GREENWICH, CT</td>\n",
       "      <td>05/31/2016</td>\n",
       "      <td>08/15/2016</td>\n",
       "      <td>CERTIFIED</td>\n",
       "    </tr>\n",
       "  </tbody>\n",
       "</table>\n",
       "</div>"
      ],
      "text/plain": [
       "                     EMPLOYER                            JOB TITLE  \\\n",
       "0  AQR CAPITAL MANAGEMENT LLC     ALGORITHMIC DEVELOPER, ASSOCIATE   \n",
       "1  AQR CAPITAL MANAGEMENT LLC                              ANALYST   \n",
       "2  AQR CAPITAL MANAGEMENT LLC                              ANALYST   \n",
       "3  AQR CAPITAL MANAGEMENT LLC  ANALYST, SECURITY MASTER SPECIALIST   \n",
       "4  AQR CAPITAL MANAGEMENT LLC                    ANALYST, STRATEGY   \n",
       "\n",
       "   BASE SALARY       LOCATION SUBMIT DATE  START DATE CASE STATUS  \n",
       "0       130000  GREENWICH, CT  06/09/2014  07/01/2014   CERTIFIED  \n",
       "1        75000  GREENWICH, CT  06/06/2013  06/17/2013   CERTIFIED  \n",
       "2        90000  GREENWICH, CT  07/11/2016  07/19/2016   CERTIFIED  \n",
       "3        90000  GREENWICH, CT  02/04/2015  02/23/2015   CERTIFIED  \n",
       "4       100000  GREENWICH, CT  05/31/2016  08/15/2016   CERTIFIED  "
      ]
     },
     "execution_count": 124,
     "metadata": {},
     "output_type": "execute_result"
    }
   ],
   "source": [
    "out_table = browser.find_element_by_tag_name('table')\n",
    "df_table = pd.read_html(out_table.get_attribute('outerHTML'), flavor='lxml')[0]\n",
    "df_table.head()"
   ]
  },
  {
   "cell_type": "markdown",
   "metadata": {},
   "source": [
    "### Initial Dive"
   ]
  },
  {
   "cell_type": "markdown",
   "metadata": {},
   "source": [
    "Initial filtering:"
   ]
  },
  {
   "cell_type": "code",
   "execution_count": 231,
   "metadata": {
    "collapsed": true
   },
   "outputs": [],
   "source": [
    "df_subset = df_table\n",
    "#df_subset = df_table[df_table['JOB TITLE'] == df_table['JOB TITLE'].value_counts().index[0]] # for most frequent position"
   ]
  },
  {
   "cell_type": "markdown",
   "metadata": {},
   "source": [
    "Data exploration:"
   ]
  },
  {
   "cell_type": "code",
   "execution_count": 232,
   "metadata": {
    "collapsed": false
   },
   "outputs": [
    {
     "name": "stdout",
     "output_type": "stream",
     "text": [
      "CERTIFIED                                             4510\n",
      "WITHDRAWN                                               83\n",
      "DENIED                                                  43\n",
      "PENDING QUALITY AND COMPLIANCE REVIEW - UNASSIGNED       2\n",
      "Name: CASE STATUS, dtype: int64\n",
      "\n",
      "ORACLE AMERICA INC                        3949\n",
      "ORACLE FINANCIAL SERVICES SOFTWARE INC     687\n",
      "ORACLE TILE AND STONE                        2\n",
      "Name: EMPLOYER, dtype: int64\n",
      "\n",
      "REDWOOD SHORES, CA    695\n",
      "SANTA CLARA, CA       349\n",
      "EDISON, NJ            247\n",
      "BURLINGTON, MA        146\n",
      "AUSTIN, TX            111\n",
      "Name: LOCATION, dtype: int64\n"
     ]
    }
   ],
   "source": [
    "print df_subset['CASE STATUS'].value_counts(0)\n",
    "print \"\"\n",
    "print df_subset.EMPLOYER.value_counts()\n",
    "print \"\"\n",
    "print df_subset.LOCATION.value_counts()[:5]"
   ]
  },
  {
   "cell_type": "markdown",
   "metadata": {},
   "source": [
    "It would be cool to parse job levels/titles. Perhaps analyst, associate, manager are sufficient?"
   ]
  },
  {
   "cell_type": "code",
   "execution_count": 244,
   "metadata": {
    "collapsed": false
   },
   "outputs": [
    {
     "name": "stdout",
     "output_type": "stream",
     "text": [
      "['SOFTWARE DEVELOPER', 'APPLICATIONS DEVELOPER', 'SENIOR PRINCIPAL CONSULTANT', 'PRINCIPAL CONSULTANT', 'CONSULTANT']\n"
     ]
    }
   ],
   "source": [
    "num_titles_shown = 5\n",
    "topx_positions = list(df_subset['JOB TITLE'].value_counts(0).index)[:num_titles_shown]\n",
    "print topx_positions"
   ]
  },
  {
   "cell_type": "markdown",
   "metadata": {},
   "source": [
    "#### Visual elements"
   ]
  },
  {
   "cell_type": "code",
   "execution_count": 234,
   "metadata": {
    "collapsed": false,
    "scrolled": true
   },
   "outputs": [
    {
     "data": {
      "text/plain": [
       "<matplotlib.text.Text at 0x354a0e48>"
      ]
     },
     "execution_count": 234,
     "metadata": {},
     "output_type": "execute_result"
    },
    {
     "data": {
      "image/png": "[encoded data removed]",
      "text/plain": [
       "<matplotlib.figure.Figure at 0x3530e9b0>"
      ]
     },
     "metadata": {},
     "output_type": "display_data"
    }
   ],
   "source": [
    "fig = plt.figure(figsize=(10,8))\n",
    "plt.hist(df_subset['BASE SALARY'], bins=len(df_subset)/15)\n",
    "plt.xlabel('Salary')\n",
    "plt.ylabel('Count')"
   ]
  },
  {
   "cell_type": "code",
   "execution_count": 235,
   "metadata": {
    "collapsed": false
   },
   "outputs": [
    {
     "data": {
      "text/plain": [
       "<matplotlib.text.Text at 0x35018588>"
      ]
     },
     "execution_count": 235,
     "metadata": {},
     "output_type": "execute_result"
    },
    {
     "data": {
      "image/png": "[encoded data removed]",
      "text/plain": [
       "<matplotlib.figure.Figure at 0x3530e860>"
      ]
     },
     "metadata": {},
     "output_type": "display_data"
    }
   ],
   "source": [
    "fig = plt.figure(figsize=(10,2))\n",
    "plt.boxplot(df_subset['BASE SALARY'].values, \n",
    "            vert=False, showfliers=0, showmeans=True)\n",
    "plt.xlabel('Salary')"
   ]
  },
  {
   "cell_type": "code",
   "execution_count": 236,
   "metadata": {
    "collapsed": false
   },
   "outputs": [
    {
     "data": {
      "text/html": [
       "<div>\n",
       "<table border=\"1\" class=\"dataframe\">\n",
       "  <thead>\n",
       "    <tr style=\"text-align: right;\">\n",
       "      <th></th>\n",
       "      <th>BASE SALARY</th>\n",
       "    </tr>\n",
       "  </thead>\n",
       "  <tbody>\n",
       "    <tr>\n",
       "      <th>count</th>\n",
       "      <td>4638.000000</td>\n",
       "    </tr>\n",
       "    <tr>\n",
       "      <th>mean</th>\n",
       "      <td>101783.966796</td>\n",
       "    </tr>\n",
       "    <tr>\n",
       "      <th>std</th>\n",
       "      <td>23601.040833</td>\n",
       "    </tr>\n",
       "    <tr>\n",
       "      <th>min</th>\n",
       "      <td>35776.000000</td>\n",
       "    </tr>\n",
       "    <tr>\n",
       "      <th>25%</th>\n",
       "      <td>90000.500000</td>\n",
       "    </tr>\n",
       "    <tr>\n",
       "      <th>50%</th>\n",
       "      <td>100230.000000</td>\n",
       "    </tr>\n",
       "    <tr>\n",
       "      <th>75%</th>\n",
       "      <td>112777.250000</td>\n",
       "    </tr>\n",
       "    <tr>\n",
       "      <th>max</th>\n",
       "      <td>500000.000000</td>\n",
       "    </tr>\n",
       "  </tbody>\n",
       "</table>\n",
       "</div>"
      ],
      "text/plain": [
       "         BASE SALARY\n",
       "count    4638.000000\n",
       "mean   101783.966796\n",
       "std     23601.040833\n",
       "min     35776.000000\n",
       "25%     90000.500000\n",
       "50%    100230.000000\n",
       "75%    112777.250000\n",
       "max    500000.000000"
      ]
     },
     "execution_count": 236,
     "metadata": {},
     "output_type": "execute_result"
    }
   ],
   "source": [
    "df_subset.describe()"
   ]
  },
  {
   "cell_type": "markdown",
   "metadata": {},
   "source": []
  }
 ],
 "metadata": {
  "anaconda-cloud": {},
  "kernelspec": {
   "display_name": "Python [default]",
   "language": "python",
   "name": "python2"
  }
 },
 "nbformat": 4,
 "nbformat_minor": 0
}
