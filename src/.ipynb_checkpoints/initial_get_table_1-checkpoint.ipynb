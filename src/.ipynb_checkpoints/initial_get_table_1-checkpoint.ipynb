{
 "cells": [
  {
   "cell_type": "code",
   "execution_count": 1,
   "metadata": {
    "collapsed": true
   },
   "outputs": [],
   "source": [
    "import numpy as np\n",
    "import pandas as pd\n",
    "\n",
    "from selenium import webdriver"
   ]
  },
  {
   "cell_type": "markdown",
   "metadata": {},
   "source": [
    "**Note: use Chrome.** Remember to get geckodriver for Firefox or [ChromeDriver](https://sites.google.com/a/chromium.org/chromedriver/home) for Chrome.\n",
    "\n",
    "Some protips for getting xpaths [here](http://thiagomarzagao.com/2013/11/12/webscraping-with-selenium-part-1/)."
   ]
  },
  {
   "cell_type": "markdown",
   "metadata": {},
   "source": [
    "Form inputs:"
   ]
  },
  {
   "cell_type": "code",
   "execution_count": 40,
   "metadata": {
    "collapsed": false
   },
   "outputs": [],
   "source": [
    "employer_name = 'google'\n",
    "job_name = ''\n",
    "city_name = ''\n",
    "year_name = 'All Years' # has dropdown until 2012\n",
    "\n",
    "# input data dictionary\n",
    "input_fields = {'employer': {'user_input': employer_name,\n",
    "                            'xpath': '//*[@id=\"employer\"]',\n",
    "                            'type': 'text'},\n",
    "               'job': {'user_input': job_name,\n",
    "                      'xpath': '//*[@id=\"job\"]',\n",
    "                      'type': 'text'},\n",
    "               'city': {'user_input': city_name,\n",
    "                       'xpath': '//*[@id=\"city\"]',\n",
    "                       'type': 'text'},\n",
    "               'year': {'user_input': year_name,\n",
    "                       'xpath': '//select[@name=\"year\"]',\n",
    "                       'type': 'select'}}"
   ]
  },
  {
   "cell_type": "markdown",
   "metadata": {},
   "source": [
    "Initialize WebDriver:"
   ]
  },
  {
   "cell_type": "code",
   "execution_count": 14,
   "metadata": {
    "collapsed": true
   },
   "outputs": [],
   "source": [
    "home_url = 'http://h1bdata.info/'"
   ]
  },
  {
   "cell_type": "code",
   "execution_count": 18,
   "metadata": {
    "collapsed": false
   },
   "outputs": [],
   "source": [
    "browser = webdriver.Chrome()\n",
    "browser.get(home_url)"
   ]
  },
  {
   "cell_type": "code",
   "execution_count": 39,
   "metadata": {
    "collapsed": false
   },
   "outputs": [
    {
     "name": "stdout",
     "output_type": "stream",
     "text": [
      "year values: \n",
      "[u'All Years', u'2016', u'2015', u'2014', u'2013', u'2012']\n"
     ]
    }
   ],
   "source": [
    "for field in input_fields:\n",
    "    curr_elem = browser.find_element_by_xpath(input_fields[field]['xpath'])\n",
    "    \n",
    "    # dropdown lists\n",
    "    if input_fields[field]['type'] == 'select':\n",
    "        \n",
    "        # store finite values of dropdowns for future use\n",
    "        option_values = curr_elem.find_elements_by_tag_name('option')\n",
    "        input_fields[field]['values'] = [option.get_attribute('value') \n",
    "                                         for option in option_values]\n",
    "        \n",
    "        print field, \"values: \\n\", input_fields[field]['values']\n",
    "        \n",
    "        # select user input option\n",
    "        option_xpath = (input_fields[field]['xpath'] + \n",
    "                             '/option[@value=\"' + \n",
    "                             input_fields[field]['user_input'] + \n",
    "                             '\"]')\n",
    "        curr_elem_option = browser.find_element_by_xpath(year_select_xpath)\n",
    "        curr_elem_option.click()\n",
    "    \n",
    "    # text input lists\n",
    "    elif input_fields[field]['type'] == 'text':\n",
    "        curr_elem.clear()\n",
    "        curr_elem.send_keys(input_fields[field]['user_input'])\n",
    "    \n",
    "    # input field missing\n",
    "    else:\n",
    "        print \"Unaccounted Field:\", field\n",
    "    \n",
    "    \n",
    "browser.find_element_by_css_selector('button[type=\"submit\"]').click()"
   ]
  },
  {
   "cell_type": "markdown",
   "metadata": {},
   "source": [
    "Scrape data:"
   ]
  }
 ],
 "metadata": {
  "kernelspec": {
   "display_name": "Python 2",
   "language": "python",
   "name": "python2"
  },
  "language_info": {
   "codemirror_mode": {
    "name": "ipython",
    "version": 2
   },
   "file_extension": ".py",
   "mimetype": "text/x-python",
   "name": "python",
   "nbconvert_exporter": "python",
   "pygments_lexer": "ipython2",
   "version": "2.7.10"
  }
 },
 "nbformat": 4,
 "nbformat_minor": 0
}
