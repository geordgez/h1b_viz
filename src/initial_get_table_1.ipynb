{
 "cells": [
  {
   "cell_type": "markdown",
   "metadata": {},
   "source": [
    "# Get H1B Salary Information Tables\n",
    "\n",
    "Automated input form completion for retrieving H1B salary information table into a pandas DataFrame."
   ]
  },
  {
   "cell_type": "code",
   "execution_count": 1,
   "metadata": {
    "collapsed": true
   },
   "outputs": [],
   "source": [
    "%matplotlib inline"
   ]
  },
  {
   "cell_type": "markdown",
   "metadata": {},
   "source": [
    "All notes are as of January 3rd, 2017.\n",
    "\n",
    "**Note:** You may need to **downgrade your html5lib library** to an earlier version in order to avoid throwing an AttributeError through BeautifulSoup. Note that it will only throw the AttributeError once; subsequently, it will throw an ImportError regarding 'htmlparser.' However, the actual error occurs at the AttributeError and not the ImportError which is a bit tricky: please see the [Github documentation here](https://github.com/coursera-dl/coursera-dl/issues/554) which fixes the issue."
   ]
  },
  {
   "cell_type": "code",
   "execution_count": 2,
   "metadata": {
    "collapsed": false
   },
   "outputs": [],
   "source": [
    "import numpy as np\n",
    "import pandas as pd\n",
    "from matplotlib import pyplot as plt\n",
    "\n",
    "import requests as rq\n",
    "import html5lib\n",
    "import lxml\n",
    "\n",
    "from selenium import webdriver\n",
    "from bs4 import BeautifulSoup as bs"
   ]
  },
  {
   "cell_type": "markdown",
   "metadata": {},
   "source": [
    "**Note: use Chrome.** Remember to get geckodriver for Firefox or [ChromeDriver](https://sites.google.com/a/chromium.org/chromedriver/home) for Chrome. Also need lxml and html5lib but installed don't need to import. pandas read_html prioritized lxml then html5lib.\n",
    "\n",
    "Some protips for getting xpaths [here](http://thiagomarzagao.com/2013/11/12/webscraping-with-selenium-part-1/). Form inputs:"
   ]
  },
  {
   "cell_type": "code",
   "execution_count": 3,
   "metadata": {
    "collapsed": false
   },
   "outputs": [],
   "source": [
    "employer_name = 'google'\n",
    "job_name = ''\n",
    "city_name = ''\n",
    "year_name = 'All Years' # has dropdown until 2012\n",
    "\n",
    "# input data dictionary\n",
    "input_fields = {'employer': {'user_input': employer_name,\n",
    "                            'xpath': '//*[@id=\"employer\"]',\n",
    "                            'type': 'text'},\n",
    "               'job': {'user_input': job_name,\n",
    "                      'xpath': '//*[@id=\"job\"]',\n",
    "                      'type': 'text'},\n",
    "               'city': {'user_input': city_name,\n",
    "                       'xpath': '//*[@id=\"city\"]',\n",
    "                       'type': 'text'},\n",
    "               'year': {'user_input': year_name,\n",
    "                       'xpath': '//select[@name=\"year\"]',\n",
    "                       'type': 'select'}}"
   ]
  },
  {
   "cell_type": "markdown",
   "metadata": {},
   "source": [
    "### Method 1: Direct URL access to table"
   ]
  },
  {
   "cell_type": "markdown",
   "metadata": {},
   "source": [
    "Direct paste into URL. However, this is not always robust: for some reason, page_soup "
   ]
  },
  {
   "cell_type": "code",
   "execution_count": 4,
   "metadata": {
    "collapsed": false,
    "scrolled": true
   },
   "outputs": [
    {
     "name": "stdout",
     "output_type": "stream",
     "text": [
      "http://h1bdata.info/index.php?em=google&job=&city=&year=All+Years\n"
     ]
    }
   ],
   "source": [
    "search_url = (\n",
    "    'http://h1bdata.info/index.php?em=' + employer_name + \n",
    "    '&job=' + job_name +\n",
    "    '&city=' + city_name +\n",
    "    '&year=' + year_name\n",
    "    )\n",
    "search_url = search_url.replace(' ', '+')\n",
    "print search_url"
   ]
  },
  {
   "cell_type": "code",
   "execution_count": 5,
   "metadata": {
    "collapsed": true
   },
   "outputs": [],
   "source": [
    "search_page = rq.get(search_url)"
   ]
  },
  {
   "cell_type": "markdown",
   "metadata": {},
   "source": [
    "When the table is too large, BeautifulSoup seems unable to store and/or find the table so you need some initial hack-ish workaround to find the table. Here I just found the second occurrence of 'myTable.'"
   ]
  },
  {
   "cell_type": "markdown",
   "metadata": {},
   "source": [
    "$N$th occurrence code borrowed from [here](http://stackoverflow.com/questions/1883980/find-the-nth-occurrence-of-substring-in-a-string)."
   ]
  },
  {
   "cell_type": "code",
   "execution_count": 6,
   "metadata": {
    "collapsed": true
   },
   "outputs": [],
   "source": [
    "# returns index of nth occurrence of substring\n",
    "def find_nth(haystack, needle, n):\n",
    "    start = haystack.find(needle)\n",
    "    while start >= 0 and n > 1:\n",
    "        start = haystack.find(needle, start+len(needle))\n",
    "        n -= 1\n",
    "    return start"
   ]
  },
  {
   "cell_type": "code",
   "execution_count": 7,
   "metadata": {
    "collapsed": false
   },
   "outputs": [],
   "source": [
    "page_contents = search_page.content\n",
    "idx1 = find_nth(page_contents,'myTable',2)\n",
    "page_soup = bs(page_contents[idx1-300:])"
   ]
  },
  {
   "cell_type": "markdown",
   "metadata": {},
   "source": [
    "### Method 2: Enter form inputs through Selenium Webdriver\n",
    "\n",
    "**Note:** for faster access you can use direct request instead of WebDriver. In fact, even within the realm of form-input methods, using Beautifulsoup might even be faster. This is just for practice although it is more generalizable for sites that generate using JavaScript. A useful future feature would be to scrape the autocompletion entries for the employer names as well.\n",
    "\n",
    "**Note:** remember that you to [download ChromeDriver](https://sites.google.com/a/chromium.org/chromedriver/downloads) and move the executable to one of your local Anaconda package paths (USER_NAME/anaconda/bin or USER_NAME/anaconda/lib)."
   ]
  },
  {
   "cell_type": "markdown",
   "metadata": {},
   "source": [
    "Initialize WebDriver:"
   ]
  },
  {
   "cell_type": "code",
   "execution_count": 8,
   "metadata": {
    "collapsed": false
   },
   "outputs": [],
   "source": [
    "home_url = 'http://h1bdata.info/'\n",
    "browser = webdriver.Chrome()"
   ]
  },
  {
   "cell_type": "code",
   "execution_count": 9,
   "metadata": {
    "collapsed": false
   },
   "outputs": [
    {
     "name": "stdout",
     "output_type": "stream",
     "text": [
      "year values: \n",
      "[u'All Years', u'2016', u'2015', u'2014', u'2013', u'2012']\n"
     ]
    }
   ],
   "source": [
    "browser.get(home_url)\n",
    "\n",
    "for field in input_fields:\n",
    "    curr_elem = browser.find_element_by_xpath(input_fields[field]['xpath'])\n",
    "    \n",
    "    # dropdown lists\n",
    "    if input_fields[field]['type'] == 'select':\n",
    "        \n",
    "        # while scraping, record finite values of dropdowns for future use\n",
    "        option_values = curr_elem.find_elements_by_tag_name('option')\n",
    "        input_fields[field]['values'] = [option.get_attribute('value') \n",
    "                                         for option in option_values]\n",
    "        \n",
    "        print field, \"values: \\n\", input_fields[field]['values']\n",
    "        \n",
    "        # select user input option\n",
    "        option_xpath = (input_fields[field]['xpath'] + \n",
    "                             '/option[@value=\"' + \n",
    "                             input_fields[field]['user_input'] + \n",
    "                             '\"]'\n",
    "                       )\n",
    "        curr_elem_option = browser.find_element_by_xpath(option_xpath)\n",
    "        curr_elem_option.click()\n",
    "    \n",
    "    # text input lists\n",
    "    elif input_fields[field]['type'] == 'text':\n",
    "        curr_elem.clear()\n",
    "        curr_elem.send_keys(input_fields[field]['user_input'])\n",
    "    \n",
    "    # input field missing\n",
    "    else:\n",
    "        print \"Unaccounted Field:\", field\n",
    "    \n",
    "    \n",
    "browser.find_element_by_css_selector('button[type=\"submit\"]').click()"
   ]
  },
  {
   "cell_type": "markdown",
   "metadata": {},
   "source": [
    "## Get Tables"
   ]
  },
  {
   "cell_type": "markdown",
   "metadata": {},
   "source": [
    "Method 1: scrape table from direct URL and BeautifulSoup:"
   ]
  },
  {
   "cell_type": "code",
   "execution_count": 10,
   "metadata": {
    "collapsed": false
   },
   "outputs": [
    {
     "name": "stdout",
     "output_type": "stream",
     "text": [
      "(179, 7)\n"
     ]
    },
    {
     "data": {
      "text/html": [
       "<div>\n",
       "<table border=\"1\" class=\"dataframe\">\n",
       "  <thead>\n",
       "    <tr style=\"text-align: right;\">\n",
       "      <th></th>\n",
       "      <th>EMPLOYER</th>\n",
       "      <th>JOB TITLE</th>\n",
       "      <th>BASE SALARY</th>\n",
       "      <th>LOCATION</th>\n",
       "      <th>SUBMIT DATE</th>\n",
       "      <th>START DATE</th>\n",
       "      <th>CASE STATUS</th>\n",
       "    </tr>\n",
       "  </thead>\n",
       "  <tbody>\n",
       "    <tr>\n",
       "      <th>0</th>\n",
       "      <td>GOOGLE INC</td>\n",
       "      <td>ACCOUNT ANALYST</td>\n",
       "      <td>114360</td>\n",
       "      <td>NEW YORK, NY</td>\n",
       "      <td>03/21/2013</td>\n",
       "      <td>04/09/2013</td>\n",
       "      <td>CERTIFIED</td>\n",
       "    </tr>\n",
       "    <tr>\n",
       "      <th>1</th>\n",
       "      <td>GOOGLE INC</td>\n",
       "      <td>ACCOUNT ANALYST</td>\n",
       "      <td>114360</td>\n",
       "      <td>NEW YORK, NY</td>\n",
       "      <td>06/24/2013</td>\n",
       "      <td>10/01/2013</td>\n",
       "      <td>CERTIFIED</td>\n",
       "    </tr>\n",
       "    <tr>\n",
       "      <th>2</th>\n",
       "      <td>GOOGLE INC</td>\n",
       "      <td>ACCOUNT ANALYST</td>\n",
       "      <td>116000</td>\n",
       "      <td>NEW YORK, NY</td>\n",
       "      <td>07/24/2013</td>\n",
       "      <td>11/29/2013</td>\n",
       "      <td>CERTIFIED</td>\n",
       "    </tr>\n",
       "    <tr>\n",
       "      <th>3</th>\n",
       "      <td>GOOGLE INC</td>\n",
       "      <td>ACCOUNT ANALYST</td>\n",
       "      <td>121402</td>\n",
       "      <td>NEW YORK, NY</td>\n",
       "      <td>12/16/2015</td>\n",
       "      <td>04/05/2016</td>\n",
       "      <td>CERTIFIED</td>\n",
       "    </tr>\n",
       "    <tr>\n",
       "      <th>4</th>\n",
       "      <td>GOOGLE INC</td>\n",
       "      <td>ACCOUNT ASSOCIATE</td>\n",
       "      <td>74700</td>\n",
       "      <td>MOUNTAIN VIEW, CA</td>\n",
       "      <td>01/07/2015</td>\n",
       "      <td>05/07/2015</td>\n",
       "      <td>CERTIFIED</td>\n",
       "    </tr>\n",
       "  </tbody>\n",
       "</table>\n",
       "</div>"
      ],
      "text/plain": [
       "     EMPLOYER          JOB TITLE  BASE SALARY           LOCATION SUBMIT DATE  \\\n",
       "0  GOOGLE INC    ACCOUNT ANALYST       114360       NEW YORK, NY  03/21/2013   \n",
       "1  GOOGLE INC    ACCOUNT ANALYST       114360       NEW YORK, NY  06/24/2013   \n",
       "2  GOOGLE INC    ACCOUNT ANALYST       116000       NEW YORK, NY  07/24/2013   \n",
       "3  GOOGLE INC    ACCOUNT ANALYST       121402       NEW YORK, NY  12/16/2015   \n",
       "4  GOOGLE INC  ACCOUNT ASSOCIATE        74700  MOUNTAIN VIEW, CA  01/07/2015   \n",
       "\n",
       "   START DATE CASE STATUS  \n",
       "0  04/09/2013   CERTIFIED  \n",
       "1  10/01/2013   CERTIFIED  \n",
       "2  11/29/2013   CERTIFIED  \n",
       "3  04/05/2016   CERTIFIED  \n",
       "4  05/07/2015   CERTIFIED  "
      ]
     },
     "execution_count": 10,
     "metadata": {},
     "output_type": "execute_result"
    }
   ],
   "source": [
    "out_table_direct = page_soup.find('table')\n",
    "df_table = pd.read_html(out_table_direct.prettify())[0]\n",
    "\n",
    "print df_table.shape\n",
    "df_table.head()"
   ]
  },
  {
   "cell_type": "markdown",
   "metadata": {},
   "source": [
    "Method 2: scrape table from WebDriver window:"
   ]
  },
  {
   "cell_type": "code",
   "execution_count": 11,
   "metadata": {
    "collapsed": false
   },
   "outputs": [
    {
     "name": "stdout",
     "output_type": "stream",
     "text": [
      "(10831, 7)\n"
     ]
    },
    {
     "data": {
      "text/html": [
       "<div>\n",
       "<table border=\"1\" class=\"dataframe\">\n",
       "  <thead>\n",
       "    <tr style=\"text-align: right;\">\n",
       "      <th></th>\n",
       "      <th>EMPLOYER</th>\n",
       "      <th>JOB TITLE</th>\n",
       "      <th>BASE SALARY</th>\n",
       "      <th>LOCATION</th>\n",
       "      <th>SUBMIT DATE</th>\n",
       "      <th>START DATE</th>\n",
       "      <th>CASE STATUS</th>\n",
       "    </tr>\n",
       "  </thead>\n",
       "  <tbody>\n",
       "    <tr>\n",
       "      <th>0</th>\n",
       "      <td>GOOGLE INC</td>\n",
       "      <td>ACCOUNT ANALYST</td>\n",
       "      <td>114360</td>\n",
       "      <td>NEW YORK, NY</td>\n",
       "      <td>03/21/2013</td>\n",
       "      <td>04/09/2013</td>\n",
       "      <td>CERTIFIED</td>\n",
       "    </tr>\n",
       "    <tr>\n",
       "      <th>1</th>\n",
       "      <td>GOOGLE INC</td>\n",
       "      <td>ACCOUNT ANALYST</td>\n",
       "      <td>114360</td>\n",
       "      <td>NEW YORK, NY</td>\n",
       "      <td>06/24/2013</td>\n",
       "      <td>10/01/2013</td>\n",
       "      <td>CERTIFIED</td>\n",
       "    </tr>\n",
       "    <tr>\n",
       "      <th>2</th>\n",
       "      <td>GOOGLE INC</td>\n",
       "      <td>ACCOUNT ANALYST</td>\n",
       "      <td>116000</td>\n",
       "      <td>NEW YORK, NY</td>\n",
       "      <td>07/24/2013</td>\n",
       "      <td>11/29/2013</td>\n",
       "      <td>CERTIFIED</td>\n",
       "    </tr>\n",
       "    <tr>\n",
       "      <th>3</th>\n",
       "      <td>GOOGLE INC</td>\n",
       "      <td>ACCOUNT ANALYST</td>\n",
       "      <td>121402</td>\n",
       "      <td>NEW YORK, NY</td>\n",
       "      <td>12/16/2015</td>\n",
       "      <td>04/05/2016</td>\n",
       "      <td>CERTIFIED</td>\n",
       "    </tr>\n",
       "    <tr>\n",
       "      <th>4</th>\n",
       "      <td>GOOGLE INC</td>\n",
       "      <td>ACCOUNT ASSOCIATE</td>\n",
       "      <td>74700</td>\n",
       "      <td>MOUNTAIN VIEW, CA</td>\n",
       "      <td>01/07/2015</td>\n",
       "      <td>05/07/2015</td>\n",
       "      <td>CERTIFIED</td>\n",
       "    </tr>\n",
       "  </tbody>\n",
       "</table>\n",
       "</div>"
      ],
      "text/plain": [
       "     EMPLOYER          JOB TITLE  BASE SALARY           LOCATION SUBMIT DATE  \\\n",
       "0  GOOGLE INC    ACCOUNT ANALYST       114360       NEW YORK, NY  03/21/2013   \n",
       "1  GOOGLE INC    ACCOUNT ANALYST       114360       NEW YORK, NY  06/24/2013   \n",
       "2  GOOGLE INC    ACCOUNT ANALYST       116000       NEW YORK, NY  07/24/2013   \n",
       "3  GOOGLE INC    ACCOUNT ANALYST       121402       NEW YORK, NY  12/16/2015   \n",
       "4  GOOGLE INC  ACCOUNT ASSOCIATE        74700  MOUNTAIN VIEW, CA  01/07/2015   \n",
       "\n",
       "   START DATE CASE STATUS  \n",
       "0  04/09/2013   CERTIFIED  \n",
       "1  10/01/2013   CERTIFIED  \n",
       "2  11/29/2013   CERTIFIED  \n",
       "3  04/05/2016   CERTIFIED  \n",
       "4  05/07/2015   CERTIFIED  "
      ]
     },
     "execution_count": 11,
     "metadata": {},
     "output_type": "execute_result"
    }
   ],
   "source": [
    "out_table = browser.find_element_by_tag_name('table')\n",
    "df_table = pd.read_html(out_table.get_attribute('outerHTML'), flavor='lxml')[0]\n",
    "\n",
    "print df_table.shape\n",
    "df_table.head()"
   ]
  },
  {
   "cell_type": "markdown",
   "metadata": {},
   "source": [
    "### Initial Dive"
   ]
  },
  {
   "cell_type": "markdown",
   "metadata": {},
   "source": [
    "Initial filtering:"
   ]
  },
  {
   "cell_type": "code",
   "execution_count": 12,
   "metadata": {
    "collapsed": true
   },
   "outputs": [],
   "source": [
    "df_subset = df_table\n",
    "#df_subset = df_table[df_table['JOB TITLE'] == df_table['JOB TITLE'].value_counts().index[0]] # for most frequent position"
   ]
  },
  {
   "cell_type": "markdown",
   "metadata": {},
   "source": [
    "Data exploration:"
   ]
  },
  {
   "cell_type": "code",
   "execution_count": 13,
   "metadata": {
    "collapsed": false
   },
   "outputs": [
    {
     "name": "stdout",
     "output_type": "stream",
     "text": [
      "CERTIFIED    10330\n",
      "WITHDRAWN      320\n",
      "DENIED         181\n",
      "dtype: int64\n",
      "\n",
      "GOOGLE INC                                10795\n",
      "GOOGLE LIFE SCIENCES LLC                     34\n",
      "GOOGLE VENTURES MANAGEMENT COMPANY LLC        1\n",
      "GOOGLE CAPITAL MANAGEMENT COMPANY LLC         1\n",
      "dtype: int64\n",
      "\n",
      "MOUNTAIN VIEW, CA    7830\n",
      "NEW YORK, NY         1039\n",
      "SAN BRUNO, CA         313\n",
      "KIRKLAND, WA          301\n",
      "SAN FRANCISCO, CA     218\n",
      "dtype: int64\n"
     ]
    }
   ],
   "source": [
    "print df_subset['CASE STATUS'].value_counts(0)\n",
    "print \"\"\n",
    "print df_subset.EMPLOYER.value_counts()\n",
    "print \"\"\n",
    "print df_subset.LOCATION.value_counts()[:5]"
   ]
  },
  {
   "cell_type": "markdown",
   "metadata": {},
   "source": [
    "It would be cool to parse job levels/titles. Perhaps analyst, associate, manager are sufficient?"
   ]
  },
  {
   "cell_type": "code",
   "execution_count": 14,
   "metadata": {
    "collapsed": false
   },
   "outputs": [
    {
     "name": "stdout",
     "output_type": "stream",
     "text": [
      "['SOFTWARE ENGINEER', 'SOFTWARE ENGINEER IN TEST', 'PRODUCT MANAGER', 'PROGRAM MANAGER', 'TEST ENGINEER']\n"
     ]
    }
   ],
   "source": [
    "num_titles_shown = 5\n",
    "topx_positions = list(df_subset['JOB TITLE'].value_counts(0).index)[:num_titles_shown]\n",
    "print topx_positions"
   ]
  },
  {
   "cell_type": "markdown",
   "metadata": {},
   "source": [
    "#### Visual elements"
   ]
  },
  {
   "cell_type": "code",
   "execution_count": 15,
   "metadata": {
    "collapsed": false,
    "scrolled": true
   },
   "outputs": [
    {
     "data": {
      "text/plain": [
       "<matplotlib.text.Text at 0x109c83290>"
      ]
     },
     "execution_count": 15,
     "metadata": {},
     "output_type": "execute_result"
    },
    {
     "data": {
      "image/png": "[encoded data removed]",
      "text/plain": [
       "<matplotlib.figure.Figure at 0x109c06450>"
      ]
     },
     "metadata": {},
     "output_type": "display_data"
    }
   ],
   "source": [
    "fig = plt.figure(figsize=(10,8))\n",
    "plt.hist(df_subset['BASE SALARY'], bins=len(df_subset)/15)\n",
    "plt.xlabel('Salary')\n",
    "plt.ylabel('Count')"
   ]
  },
  {
   "cell_type": "code",
   "execution_count": 16,
   "metadata": {
    "collapsed": false
   },
   "outputs": [
    {
     "data": {
      "text/plain": [
       "<matplotlib.text.Text at 0x10a33fd90>"
      ]
     },
     "execution_count": 16,
     "metadata": {},
     "output_type": "execute_result"
    },
    {
     "data": {
      "image/png": "[encoded data removed]",
      "text/plain": [
       "<matplotlib.figure.Figure at 0x10a84b7d0>"
      ]
     },
     "metadata": {},
     "output_type": "display_data"
    }
   ],
   "source": [
    "fig = plt.figure(figsize=(10,2))\n",
    "plt.boxplot(df_subset['BASE SALARY'].values, \n",
    "            vert=False, showfliers=0, showmeans=True)\n",
    "plt.xlabel('Salary')"
   ]
  },
  {
   "cell_type": "code",
   "execution_count": 17,
   "metadata": {
    "collapsed": false
   },
   "outputs": [
    {
     "data": {
      "text/html": [
       "<div>\n",
       "<table border=\"1\" class=\"dataframe\">\n",
       "  <thead>\n",
       "    <tr style=\"text-align: right;\">\n",
       "      <th></th>\n",
       "      <th>BASE SALARY</th>\n",
       "    </tr>\n",
       "  </thead>\n",
       "  <tbody>\n",
       "    <tr>\n",
       "      <th>count</th>\n",
       "      <td>10831.000000</td>\n",
       "    </tr>\n",
       "    <tr>\n",
       "      <th>mean</th>\n",
       "      <td>129571.314375</td>\n",
       "    </tr>\n",
       "    <tr>\n",
       "      <th>std</th>\n",
       "      <td>28072.476906</td>\n",
       "    </tr>\n",
       "    <tr>\n",
       "      <th>min</th>\n",
       "      <td>55536.000000</td>\n",
       "    </tr>\n",
       "    <tr>\n",
       "      <th>25%</th>\n",
       "      <td>110000.000000</td>\n",
       "    </tr>\n",
       "    <tr>\n",
       "      <th>50%</th>\n",
       "      <td>127000.000000</td>\n",
       "    </tr>\n",
       "    <tr>\n",
       "      <th>75%</th>\n",
       "      <td>140000.000000</td>\n",
       "    </tr>\n",
       "    <tr>\n",
       "      <th>max</th>\n",
       "      <td>1139001.000000</td>\n",
       "    </tr>\n",
       "  </tbody>\n",
       "</table>\n",
       "</div>"
      ],
      "text/plain": [
       "          BASE SALARY\n",
       "count    10831.000000\n",
       "mean    129571.314375\n",
       "std      28072.476906\n",
       "min      55536.000000\n",
       "25%     110000.000000\n",
       "50%     127000.000000\n",
       "75%     140000.000000\n",
       "max    1139001.000000"
      ]
     },
     "execution_count": 17,
     "metadata": {},
     "output_type": "execute_result"
    }
   ],
   "source": [
    "df_subset.describe()"
   ]
  },
  {
   "cell_type": "markdown",
   "metadata": {},
   "source": []
  },
  {
   "cell_type": "code",
   "execution_count": null,
   "metadata": {
    "collapsed": true
   },
   "outputs": [],
   "source": []
  }
 ],
 "metadata": {
  "anaconda-cloud": {},
  "kernelspec": {
   "display_name": "Python 2",
   "language": "python",
   "name": "python2"
  },
  "language_info": {
   "codemirror_mode": {
    "name": "ipython",
    "version": 2
   },
   "file_extension": ".py",
   "mimetype": "text/x-python",
   "name": "python",
   "nbconvert_exporter": "python",
   "pygments_lexer": "ipython2",
   "version": "2.7.10"
  }
 },
 "nbformat": 4,
 "nbformat_minor": 0
}
