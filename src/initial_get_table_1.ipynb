{
 "cells": [
  {
   "cell_type": "code",
   "execution_count": 51,
   "metadata": {
    "collapsed": false
   },
   "outputs": [],
   "source": [
    "import numpy as np\n",
    "import pandas as pd\n",
    "import requests as rq\n",
    "import html5lib\n",
    "import lxml\n",
    "\n",
    "from selenium import webdriver\n",
    "from bs4 import BeautifulSoup as bs"
   ]
  },
  {
   "cell_type": "markdown",
   "metadata": {},
   "source": [
    "**Note: use Chrome.** Remember to get geckodriver for Firefox or [ChromeDriver](https://sites.google.com/a/chromium.org/chromedriver/home) for Chrome. Also need lxml and html5lib but installed don't need to import. pandas read_html prioritized lxml then html5lib.\n",
    "\n",
    "Some protips for getting xpaths [here](http://thiagomarzagao.com/2013/11/12/webscraping-with-selenium-part-1/)."
   ]
  },
  {
   "cell_type": "markdown",
   "metadata": {},
   "source": [
    "Form inputs:"
   ]
  },
  {
   "cell_type": "code",
   "execution_count": 115,
   "metadata": {
    "collapsed": false
   },
   "outputs": [],
   "source": [
    "employer_name = 'aqr'\n",
    "job_name = ''\n",
    "city_name = ''\n",
    "year_name = 'All Years' # has dropdown until 2012\n",
    "\n",
    "# input data dictionary\n",
    "input_fields = {'employer': {'user_input': employer_name,\n",
    "                            'xpath': '//*[@id=\"employer\"]',\n",
    "                            'type': 'text'},\n",
    "               'job': {'user_input': job_name,\n",
    "                      'xpath': '//*[@id=\"job\"]',\n",
    "                      'type': 'text'},\n",
    "               'city': {'user_input': city_name,\n",
    "                       'xpath': '//*[@id=\"city\"]',\n",
    "                       'type': 'text'},\n",
    "               'year': {'user_input': year_name,\n",
    "                       'xpath': '//select[@name=\"year\"]',\n",
    "                       'type': 'select'}}"
   ]
  },
  {
   "cell_type": "markdown",
   "metadata": {},
   "source": [
    "### Method 1: Direct URL access to table"
   ]
  },
  {
   "cell_type": "markdown",
   "metadata": {},
   "source": [
    "Direct paste into URL:"
   ]
  },
  {
   "cell_type": "code",
   "execution_count": 116,
   "metadata": {
    "collapsed": false,
    "scrolled": true
   },
   "outputs": [
    {
     "name": "stdout",
     "output_type": "stream",
     "text": [
      "http://h1bdata.info/index.php?em=aqr&job=&city=&year=All+Years\n"
     ]
    }
   ],
   "source": [
    "search_url = (\n",
    "    'http://h1bdata.info/index.php?em=' + employer_name + \n",
    "    '&job=' + job_name +\n",
    "    '&city=' + city_name +\n",
    "    '&year=' + year_name\n",
    "    )\n",
    "search_url = search_url.replace(' ', '+')\n",
    "print search_url"
   ]
  },
  {
   "cell_type": "code",
   "execution_count": 117,
   "metadata": {
    "collapsed": false
   },
   "outputs": [],
   "source": [
    "search_page = rq.get(search_url)\n",
    "page_soup = bs(search_page.content, 'lxml')"
   ]
  },
  {
   "cell_type": "markdown",
   "metadata": {},
   "source": [
    "### Method 2: Enter form inputs through Selenium Webdriver\n",
    "\n",
    "**Note:** for faster access you can use direct request instead of WebDriver. In fact, even within the realm of form-input methods, using Beautifulsoup might even be faster. This is just for practice although it is more generalizable for sites that generate using JavaScript. A useful future feature would be to scrape the autocompletion entries for the employer names as well."
   ]
  },
  {
   "cell_type": "markdown",
   "metadata": {},
   "source": [
    "Initialize WebDriver:"
   ]
  },
  {
   "cell_type": "code",
   "execution_count": 118,
   "metadata": {
    "collapsed": true
   },
   "outputs": [],
   "source": [
    "home_url = 'http://h1bdata.info/'\n",
    "browser = webdriver.Chrome()"
   ]
  },
  {
   "cell_type": "code",
   "execution_count": 119,
   "metadata": {
    "collapsed": false
   },
   "outputs": [
    {
     "name": "stdout",
     "output_type": "stream",
     "text": [
      "year values: \n",
      "[u'All Years', u'2016', u'2015', u'2014', u'2013', u'2012']\n"
     ]
    }
   ],
   "source": [
    "browser.get(home_url)\n",
    "\n",
    "for field in input_fields:\n",
    "    curr_elem = browser.find_element_by_xpath(input_fields[field]['xpath'])\n",
    "    \n",
    "    # dropdown lists\n",
    "    if input_fields[field]['type'] == 'select':\n",
    "        \n",
    "        # while scraping, record finite values of dropdowns for future use\n",
    "        option_values = curr_elem.find_elements_by_tag_name('option')\n",
    "        input_fields[field]['values'] = [option.get_attribute('value') \n",
    "                                         for option in option_values]\n",
    "        \n",
    "        print field, \"values: \\n\", input_fields[field]['values']\n",
    "        \n",
    "        # select user input option\n",
    "        option_xpath = (input_fields[field]['xpath'] + \n",
    "                             '/option[@value=\"' + \n",
    "                             input_fields[field]['user_input'] + \n",
    "                             '\"]'\n",
    "                       )\n",
    "        curr_elem_option = browser.find_element_by_xpath(option_xpath)\n",
    "        curr_elem_option.click()\n",
    "    \n",
    "    # text input lists\n",
    "    elif input_fields[field]['type'] == 'text':\n",
    "        curr_elem.clear()\n",
    "        curr_elem.send_keys(input_fields[field]['user_input'])\n",
    "    \n",
    "    # input field missing\n",
    "    else:\n",
    "        print \"Unaccounted Field:\", field\n",
    "    \n",
    "    \n",
    "browser.find_element_by_css_selector('button[type=\"submit\"]').click()"
   ]
  },
  {
   "cell_type": "markdown",
   "metadata": {},
   "source": [
    "## Get Tables"
   ]
  },
  {
   "cell_type": "markdown",
   "metadata": {},
   "source": [
    "Scrape table from direct URL and BeautifulSoup:"
   ]
  },
  {
   "cell_type": "code",
   "execution_count": 123,
   "metadata": {
    "collapsed": false
   },
   "outputs": [
    {
     "data": {
      "text/html": [
       "<div>\n",
       "<table border=\"1\" class=\"dataframe\">\n",
       "  <thead>\n",
       "    <tr style=\"text-align: right;\">\n",
       "      <th></th>\n",
       "      <th>EMPLOYER</th>\n",
       "      <th>JOB TITLE</th>\n",
       "      <th>BASE SALARY</th>\n",
       "      <th>LOCATION</th>\n",
       "      <th>SUBMIT DATE</th>\n",
       "      <th>START DATE</th>\n",
       "      <th>CASE STATUS</th>\n",
       "    </tr>\n",
       "  </thead>\n",
       "  <tbody>\n",
       "    <tr>\n",
       "      <th>0</th>\n",
       "      <td>AQR CAPITAL MANAGEMENT LLC</td>\n",
       "      <td>ALGORITHMIC DEVELOPER, ASSOCIATE</td>\n",
       "      <td>130000</td>\n",
       "      <td>GREENWICH, CT</td>\n",
       "      <td>06/09/2014</td>\n",
       "      <td>07/01/2014</td>\n",
       "      <td>CERTIFIED</td>\n",
       "    </tr>\n",
       "    <tr>\n",
       "      <th>1</th>\n",
       "      <td>AQR CAPITAL MANAGEMENT LLC</td>\n",
       "      <td>ANALYST</td>\n",
       "      <td>75000</td>\n",
       "      <td>GREENWICH, CT</td>\n",
       "      <td>06/06/2013</td>\n",
       "      <td>06/17/2013</td>\n",
       "      <td>CERTIFIED</td>\n",
       "    </tr>\n",
       "    <tr>\n",
       "      <th>2</th>\n",
       "      <td>AQR CAPITAL MANAGEMENT LLC</td>\n",
       "      <td>ANALYST</td>\n",
       "      <td>90000</td>\n",
       "      <td>GREENWICH, CT</td>\n",
       "      <td>07/11/2016</td>\n",
       "      <td>07/19/2016</td>\n",
       "      <td>CERTIFIED</td>\n",
       "    </tr>\n",
       "    <tr>\n",
       "      <th>3</th>\n",
       "      <td>AQR CAPITAL MANAGEMENT LLC</td>\n",
       "      <td>ANALYST, SECURITY MASTER SPECIALIST</td>\n",
       "      <td>90000</td>\n",
       "      <td>GREENWICH, CT</td>\n",
       "      <td>02/04/2015</td>\n",
       "      <td>02/23/2015</td>\n",
       "      <td>CERTIFIED</td>\n",
       "    </tr>\n",
       "    <tr>\n",
       "      <th>4</th>\n",
       "      <td>AQR CAPITAL MANAGEMENT LLC</td>\n",
       "      <td>ANALYST, STRATEGY</td>\n",
       "      <td>100000</td>\n",
       "      <td>GREENWICH, CT</td>\n",
       "      <td>05/31/2016</td>\n",
       "      <td>08/15/2016</td>\n",
       "      <td>CERTIFIED</td>\n",
       "    </tr>\n",
       "  </tbody>\n",
       "</table>\n",
       "</div>"
      ],
      "text/plain": [
       "                     EMPLOYER                            JOB TITLE  \\\n",
       "0  AQR CAPITAL MANAGEMENT LLC     ALGORITHMIC DEVELOPER, ASSOCIATE   \n",
       "1  AQR CAPITAL MANAGEMENT LLC                              ANALYST   \n",
       "2  AQR CAPITAL MANAGEMENT LLC                              ANALYST   \n",
       "3  AQR CAPITAL MANAGEMENT LLC  ANALYST, SECURITY MASTER SPECIALIST   \n",
       "4  AQR CAPITAL MANAGEMENT LLC                    ANALYST, STRATEGY   \n",
       "\n",
       "   BASE SALARY       LOCATION SUBMIT DATE  START DATE CASE STATUS  \n",
       "0       130000  GREENWICH, CT  06/09/2014  07/01/2014   CERTIFIED  \n",
       "1        75000  GREENWICH, CT  06/06/2013  06/17/2013   CERTIFIED  \n",
       "2        90000  GREENWICH, CT  07/11/2016  07/19/2016   CERTIFIED  \n",
       "3        90000  GREENWICH, CT  02/04/2015  02/23/2015   CERTIFIED  \n",
       "4       100000  GREENWICH, CT  05/31/2016  08/15/2016   CERTIFIED  "
      ]
     },
     "execution_count": 123,
     "metadata": {},
     "output_type": "execute_result"
    }
   ],
   "source": [
    "out_table_direct = page_soup.find('table')\n",
    "df_table = pd.read_html(out_table_direct.prettify())[0]\n",
    "df_table.head()"
   ]
  },
  {
   "cell_type": "markdown",
   "metadata": {},
   "source": [
    "Scrape table from WebDriver window:"
   ]
  },
  {
   "cell_type": "code",
   "execution_count": 124,
   "metadata": {
    "collapsed": false
   },
   "outputs": [
    {
     "data": {
      "text/html": [
       "<div>\n",
       "<table border=\"1\" class=\"dataframe\">\n",
       "  <thead>\n",
       "    <tr style=\"text-align: right;\">\n",
       "      <th></th>\n",
       "      <th>EMPLOYER</th>\n",
       "      <th>JOB TITLE</th>\n",
       "      <th>BASE SALARY</th>\n",
       "      <th>LOCATION</th>\n",
       "      <th>SUBMIT DATE</th>\n",
       "      <th>START DATE</th>\n",
       "      <th>CASE STATUS</th>\n",
       "    </tr>\n",
       "  </thead>\n",
       "  <tbody>\n",
       "    <tr>\n",
       "      <th>0</th>\n",
       "      <td>AQR CAPITAL MANAGEMENT LLC</td>\n",
       "      <td>ALGORITHMIC DEVELOPER, ASSOCIATE</td>\n",
       "      <td>130000</td>\n",
       "      <td>GREENWICH, CT</td>\n",
       "      <td>06/09/2014</td>\n",
       "      <td>07/01/2014</td>\n",
       "      <td>CERTIFIED</td>\n",
       "    </tr>\n",
       "    <tr>\n",
       "      <th>1</th>\n",
       "      <td>AQR CAPITAL MANAGEMENT LLC</td>\n",
       "      <td>ANALYST</td>\n",
       "      <td>75000</td>\n",
       "      <td>GREENWICH, CT</td>\n",
       "      <td>06/06/2013</td>\n",
       "      <td>06/17/2013</td>\n",
       "      <td>CERTIFIED</td>\n",
       "    </tr>\n",
       "    <tr>\n",
       "      <th>2</th>\n",
       "      <td>AQR CAPITAL MANAGEMENT LLC</td>\n",
       "      <td>ANALYST</td>\n",
       "      <td>90000</td>\n",
       "      <td>GREENWICH, CT</td>\n",
       "      <td>07/11/2016</td>\n",
       "      <td>07/19/2016</td>\n",
       "      <td>CERTIFIED</td>\n",
       "    </tr>\n",
       "    <tr>\n",
       "      <th>3</th>\n",
       "      <td>AQR CAPITAL MANAGEMENT LLC</td>\n",
       "      <td>ANALYST, SECURITY MASTER SPECIALIST</td>\n",
       "      <td>90000</td>\n",
       "      <td>GREENWICH, CT</td>\n",
       "      <td>02/04/2015</td>\n",
       "      <td>02/23/2015</td>\n",
       "      <td>CERTIFIED</td>\n",
       "    </tr>\n",
       "    <tr>\n",
       "      <th>4</th>\n",
       "      <td>AQR CAPITAL MANAGEMENT LLC</td>\n",
       "      <td>ANALYST, STRATEGY</td>\n",
       "      <td>100000</td>\n",
       "      <td>GREENWICH, CT</td>\n",
       "      <td>05/31/2016</td>\n",
       "      <td>08/15/2016</td>\n",
       "      <td>CERTIFIED</td>\n",
       "    </tr>\n",
       "  </tbody>\n",
       "</table>\n",
       "</div>"
      ],
      "text/plain": [
       "                     EMPLOYER                            JOB TITLE  \\\n",
       "0  AQR CAPITAL MANAGEMENT LLC     ALGORITHMIC DEVELOPER, ASSOCIATE   \n",
       "1  AQR CAPITAL MANAGEMENT LLC                              ANALYST   \n",
       "2  AQR CAPITAL MANAGEMENT LLC                              ANALYST   \n",
       "3  AQR CAPITAL MANAGEMENT LLC  ANALYST, SECURITY MASTER SPECIALIST   \n",
       "4  AQR CAPITAL MANAGEMENT LLC                    ANALYST, STRATEGY   \n",
       "\n",
       "   BASE SALARY       LOCATION SUBMIT DATE  START DATE CASE STATUS  \n",
       "0       130000  GREENWICH, CT  06/09/2014  07/01/2014   CERTIFIED  \n",
       "1        75000  GREENWICH, CT  06/06/2013  06/17/2013   CERTIFIED  \n",
       "2        90000  GREENWICH, CT  07/11/2016  07/19/2016   CERTIFIED  \n",
       "3        90000  GREENWICH, CT  02/04/2015  02/23/2015   CERTIFIED  \n",
       "4       100000  GREENWICH, CT  05/31/2016  08/15/2016   CERTIFIED  "
      ]
     },
     "execution_count": 124,
     "metadata": {},
     "output_type": "execute_result"
    }
   ],
   "source": [
    "out_table = browser.find_element_by_tag_name('table')\n",
    "df_table = pd.read_html(out_table.get_attribute('outerHTML'), flavor='lxml')[0]\n",
    "df_table.head()"
   ]
  },
  {
   "cell_type": "markdown",
   "metadata": {},
   "source": [
    "Data exploration:"
   ]
  },
  {
   "cell_type": "code",
   "execution_count": 122,
   "metadata": {
    "collapsed": false
   },
   "outputs": [
    {
     "data": {
      "text/plain": [
       "GREENWICH, CT    167\n",
       "Name: LOCATION, dtype: int64"
      ]
     },
     "execution_count": 122,
     "metadata": {},
     "output_type": "execute_result"
    }
   ],
   "source": [
    "df_table.LOCATION.value_counts()"
   ]
  },
  {
   "cell_type": "code",
   "execution_count": null,
   "metadata": {
    "collapsed": true
   },
   "outputs": [],
   "source": []
  }
 ],
 "metadata": {
  "anaconda-cloud": {},
  "kernelspec": {
   "display_name": "Python [default]",
   "language": "python",
   "name": "python2"
  }
 },
 "nbformat": 4,
 "nbformat_minor": 0
}
